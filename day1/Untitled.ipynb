{
 "cells": [
  {
   "cell_type": "markdown",
   "id": "98ea20a1-3fc0-4f1a-9004-040afa9221d8",
   "metadata": {},
   "source": [
    "<h1> Day 1 </h1>\n",
    "\n",
    "<h2> Starting thoughts </h2>\n",
    "\n",
    "<p> Advent of Code is here again. I usually start eagerly but at some point just forget about it. This year I'll try to complete at least half of the exercises as I don't want to set the bar too high. But enough of the ramblings, let's begin! </p>"
   ]
  },
  {
   "cell_type": "markdown",
   "id": "1ccc4199-b7be-49c4-9ed2-baa0a891bd00",
   "metadata": {},
   "source": [
    "<h2> Part 1 </h2>"
   ]
  },
  {
   "cell_type": "markdown",
   "id": "9a3d3bd0-023a-42cd-aa11-a7632531205d",
   "metadata": {},
   "source": [
    "<h3> The problem </h3>\n",
    "\n",
    "<p> Something is wrong with global snow production, and you've been selected to take a look. The Elves have even given you a map; on it, they've used stars to mark the top fifty locations that are likely to be having problems.\n",
    "\n",
    "You've been doing this long enough to know that to restore snow operations, you need to check all fifty stars by December 25th.\n",
    "\n",
    "Collect stars by solving puzzles. Two puzzles will be made available on each day in the Advent calendar; the second puzzle is unlocked when you complete the first. Each puzzle grants one star. Good luck!\n",
    "\n",
    "You try to ask why they can't just use a weather machine (\"not powerful enough\") and where they're even sending you (\"the sky\") and why your map looks mostly blank (\"you sure ask a lot of questions\") and hang on did you just say the sky (\"of course, where do you think snow comes from\") when you realize that the Elves are already loading you into a trebuchet (\"please hold still, we need to strap you in\").\n",
    "\n",
    "As they're making the final adjustments, they discover that their calibration document (your puzzle input) has been **amended** by a very young Elf who was apparently just excited to show off her art skills. Consequently, the Elves are having trouble reading the values on the document.\n",
    "\n",
    "The newly-improved calibration document consists of lines of text; each line originally contained a specific **calibration value** that the Elves now need to recover. On each line, the calibration value can be found by combining the **first digit** and the **last digit** (in that order) to form a single **two-digit number**.\n",
    "\n",
    "For example:\n",
    "\n",
    "> 1abc2\\\n",
    "> pqr3stu8vwx\\\n",
    "> a1b2c3d4e5f\\\n",
    "> treb7uchet\n",
    "    \n",
    "In this example, the calibration values of these four lines are **12**, **38**, **15**, and **77**. Adding these together produces **142**.\n",
    "\n",
    "Consider your entire calibration document. **What is the sum of all of the calibration values?** </p>"
   ]
  },
  {
   "cell_type": "markdown",
   "id": "bfc07162-8eaa-4920-b844-c01ef71e9e48",
   "metadata": {},
   "source": [
    "<h3> The solution </h3>\n",
    "\n",
    "<p> Since it's the first day, the problem isn't too difficult to grasp. We just need to iterate through our entire document and take the first and last numbers from each row. Then, we'll just combine them and sum all of them up. </p>\n",
    "\n",
    "<p> We could start with accessing our input. </p>"
   ]
  },
  {
   "cell_type": "code",
   "execution_count": 1,
   "id": "d50598da-bd3d-4c43-91ac-ef45834494c6",
   "metadata": {},
   "outputs": [],
   "source": [
    "document = open(\"day1input.txt\", \"r\")"
   ]
  },
  {
   "cell_type": "markdown",
   "id": "45c1b1d1-fb93-47fa-9a49-dda117820191",
   "metadata": {},
   "source": [
    "<p> Then, before iterating we could make a function that takes two numbers as strings, and combines them into an integer f.e. strings \"3\" and \"5\" become an integer with the value 35. </p>"
   ]
  },
  {
   "cell_type": "code",
   "execution_count": 2,
   "id": "d67c10e4-3529-4409-a2d6-4c1f44cf8d49",
   "metadata": {},
   "outputs": [],
   "source": [
    "def numCombiner(str1, str2):\n",
    "    num = str1 + str2\n",
    "    return int(num)"
   ]
  },
  {
   "cell_type": "markdown",
   "id": "2147e76e-e5f1-4823-9085-ba9d26219387",
   "metadata": {},
   "source": [
    "<p> Now we can just iterate through every line of the document from front to back and pick up all numbers. Then we can turn the first and last numbers into our desired integers and sum them all up. </p>"
   ]
  },
  {
   "cell_type": "code",
   "execution_count": 3,
   "id": "2ebee056-1802-4273-89ab-8243bb45aac9",
   "metadata": {},
   "outputs": [
    {
     "name": "stdout",
     "output_type": "stream",
     "text": [
      "And the sum of all calibration values is 55447\n"
     ]
    }
   ],
   "source": [
    "sum = 0\n",
    "for row in document:\n",
    "    numbers = \"\"\n",
    "    for char in row:\n",
    "        if char.isdigit():\n",
    "            numbers += char\n",
    "    sum += numCombiner(numbers[0], numbers[(len(numbers)-1)])\n",
    "print(f\"And the sum of all calibration values is {sum}\")"
   ]
  },
  {
   "cell_type": "markdown",
   "id": "204a340b-fdde-4625-945a-9a9c72cf7bdc",
   "metadata": {},
   "source": [
    "<h2> Part 2 </h2>"
   ]
  },
  {
   "cell_type": "markdown",
   "id": "da9608b4-8777-460e-9ecb-6238a4dbbd1d",
   "metadata": {},
   "source": [
    "<h3> The problem </h3>"
   ]
  },
  {
   "cell_type": "markdown",
   "id": "c01310b5-97c1-4bbd-ab33-21c0dd7937da",
   "metadata": {},
   "source": [
    "<p> Your calculation isn't quite right. It looks like some of the digits are actually **spelled out with letters**: **one, two, three, four, five, six, seven, eight**, and **nine** also count as valid \"digits\".\n",
    "\n",
    "Equipped with this new information, you now need to find the real first and last digit on each line. For example:\n",
    "\n",
    "> two1nine\\\n",
    "> eightwothree\\\n",
    "> abcone2threexyz\\\n",
    "> xtwone3four\\\n",
    "> 4nineeightseven2\\\n",
    "> zoneight234\\\n",
    "> 7pqrstsixteen\n",
    "    \n",
    "In this example, the calibration values are 29, 83, 13, 24, 42, 14, and 76. Adding these together produces 281.\n",
    "\n",
    "What is the sum of all of the calibration values? </p>"
   ]
  },
  {
   "cell_type": "markdown",
   "id": "79581280-f4fa-4c90-b829-0d23f134e09a",
   "metadata": {},
   "source": [
    "<h3> The solution </h3>"
   ]
  },
  {
   "cell_type": "markdown",
   "id": "984b5875-9384-4521-85b1-9cb3f2d6a614",
   "metadata": {},
   "source": [
    "<p> Our earlier code now doesn't work, since it doesn't take account for digits spelled out with letters. To combat this, we can replace the \"spelled out digits\" with their digit counterparts. </p>"
   ]
  },
  {
   "cell_type": "markdown",
   "id": "094a383f-cc81-4e7f-bfb0-2aca1ade4f87",
   "metadata": {},
   "source": [
    "<p> There are some challenges here, however. The order to replace these is crucial, since in the earlier example on line 2 there are numbers \"eight\", \"two\" and \"three\" but eight and two share a character. \n",
    "This means we cannot just replace every spelled out digit, we need the first and last ones only. We have to iterate from front to back and vice versa, stopping the iteration if a spelled out digit is found and replaced. </p>"
   ]
  },
  {
   "cell_type": "markdown",
   "id": "2b5b66cb-e7ef-440a-b9c8-35878fa24258",
   "metadata": {},
   "source": [
    "<p> Let's first write a helper function to replace spelled out digits with their numerical counterparts. </p>"
   ]
  },
  {
   "cell_type": "code",
   "execution_count": 4,
   "id": "737552e6-d8e9-42f6-83c2-67f46b92f03c",
   "metadata": {},
   "outputs": [],
   "source": [
    "def replaceNum(str1):\n",
    "    numbers = [\"one\", \"two\", \"three\", \"four\", \"five\", \"six\", \"seven\", \"eight\", \"nine\"]\n",
    "    for i in range(9):\n",
    "        if numbers[i] in str1:\n",
    "            str2 = str1.replace(numbers[i], (str(i+1)))\n",
    "            break\n",
    "    return str2"
   ]
  },
  {
   "cell_type": "markdown",
   "id": "b794551e-e7e0-4c4f-a282-af72f7190b31",
   "metadata": {},
   "source": [
    "<p> The above function now checks for spelled out numbers and with the help of indexing, replaces it with the correct number. Let's test it out before using it on our larger input. </p>"
   ]
  },
  {
   "cell_type": "code",
   "execution_count": 5,
   "id": "6415d136-3eba-4fd7-861d-886f0fcf5d18",
   "metadata": {},
   "outputs": [
    {
     "name": "stdout",
     "output_type": "stream",
     "text": [
      "xge2gmsklhninesgfasg and asxs9vd\n"
     ]
    }
   ],
   "source": [
    "test = \"xgetwogmsklhninesgfasg\"\n",
    "test2 = \"asxsninevd\"\n",
    "test = replaceNum(test)\n",
    "test2 = replaceNum(test2)\n",
    "print(test + \" and \" + test2)"
   ]
  },
  {
   "cell_type": "markdown",
   "id": "4c9b304e-a2a2-48ab-bb1f-e328ef8c33e8",
   "metadata": {},
   "source": [
    "<p> We have to take into account that the above code only converts the first number it finds. Now let's do another function which iterates the string it's given from front to back and vice versa. Let's make it stop on the first spelled out numbers on both iterations. </p>"
   ]
  },
  {
   "cell_type": "code",
   "execution_count": 6,
   "id": "b8aa8c35-c100-446f-ba80-96c6f4454d68",
   "metadata": {},
   "outputs": [],
   "source": [
    "def doubleIterator(str1):\n",
    "    numbers = [\"one\", \"two\", \"three\", \"four\", \"five\", \"six\", \"seven\", \"eight\", \"nine\"]\n",
    "    first = \"\"\n",
    "    last = \"\"\n",
    "    temp = \"\"\n",
    "    for i in range(len(str1)):\n",
    "        first += str1[i]\n",
    "        if any(num in first for num in numbers):\n",
    "            first = replaceNum(first)\n",
    "            str1 = first + str1[i+1:] \n",
    "            break\n",
    "    for j in str1[::-1]:\n",
    "        last += j\n",
    "        temp = last[::-1]\n",
    "        if any(num in temp for num in numbers):\n",
    "            temp2 = temp\n",
    "            temp = replaceNum(temp)\n",
    "            str1 = str1[0:(len(str1)-len(temp2))] + temp\n",
    "            break\n",
    "    return str1"
   ]
  },
  {
   "cell_type": "markdown",
   "id": "9b410d5c-c995-4416-9c2c-408c20749507",
   "metadata": {},
   "source": [
    "<p> That became a little more complicated than I had intended. Let's check if it works. </p>"
   ]
  },
  {
   "cell_type": "code",
   "execution_count": 7,
   "id": "479a636a-fa79-42be-9f54-1e422caa75dd",
   "metadata": {},
   "outputs": [
    {
     "name": "stdout",
     "output_type": "stream",
     "text": [
      "as2sa12Afs4fsa and 2ne3\n"
     ]
    }
   ],
   "source": [
    "test = \"as2saonetwoAfs4fsa\"\n",
    "test2 = \"twonethree\"\n",
    "print(doubleIterator(test) + \" and \" + doubleIterator(test2))"
   ]
  },
  {
   "cell_type": "markdown",
   "id": "38d3dff0-b3ff-4882-91c7-5ec8288881e3",
   "metadata": {},
   "source": [
    "<p> It seems to behave the way we want it to. Now we'll just introduce it to our first solution and we should be done here. </p>"
   ]
  },
  {
   "cell_type": "code",
   "execution_count": 8,
   "id": "a2bd559d-f8e1-4845-91cc-70fb93212e5e",
   "metadata": {},
   "outputs": [
    {
     "name": "stdout",
     "output_type": "stream",
     "text": [
      "And the sum of all calibration values is 54706\n"
     ]
    }
   ],
   "source": [
    "document.close()\n",
    "document = open(\"day1input.txt\", \"r\")\n",
    "sum = 0\n",
    "for row in document:\n",
    "    row = doubleIterator(row)\n",
    "    numbers = \"\"\n",
    "    for char in row:\n",
    "        if char.isdigit():\n",
    "            numbers += char\n",
    "    sum += numCombiner(numbers[0], numbers[(len(numbers)-1)])\n",
    "print(f\"And the sum of all calibration values is {sum}\")"
   ]
  },
  {
   "cell_type": "markdown",
   "id": "e583d6a8-5434-465f-b507-e5d3dfddcb04",
   "metadata": {},
   "source": [
    "<p> And that's the correct answer. I'm sure the runtime for this is abysmal since it performs so many checks, but in the end it works so I won't pry too much into it. The start was a bit more challenging than I expected, but I'm still determined to keep going as far as I can. </p>"
   ]
  }
 ],
 "metadata": {
  "kernelspec": {
   "display_name": "Python 3 (ipykernel)",
   "language": "python",
   "name": "python3"
  },
  "language_info": {
   "codemirror_mode": {
    "name": "ipython",
    "version": 3
   },
   "file_extension": ".py",
   "mimetype": "text/x-python",
   "name": "python",
   "nbconvert_exporter": "python",
   "pygments_lexer": "ipython3",
   "version": "3.10.1"
  }
 },
 "nbformat": 4,
 "nbformat_minor": 5
}
