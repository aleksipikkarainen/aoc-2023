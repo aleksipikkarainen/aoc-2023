{
 "cells": [
  {
   "cell_type": "markdown",
   "id": "4deca7e9-1c7c-4d4c-9338-3f01755feffa",
   "metadata": {},
   "source": [
    "<h1> Day 2 </h1>"
   ]
  },
  {
   "cell_type": "markdown",
   "id": "f9d2d03a-6e3a-4f53-8352-22aad267bca0",
   "metadata": {},
   "source": [
    "<h2> Starting Thoughts </h2>"
   ]
  },
  {
   "cell_type": "markdown",
   "id": "65299af1-6290-4cd0-a2c9-a9ce423da49a",
   "metadata": {},
   "source": [
    "<p> Todays problem seemed a bit tricky at first. Thankfully I know how to utilize Regex, since it will be a great help this time around. Without further ado, let's get coding! </p>"
   ]
  },
  {
   "cell_type": "markdown",
   "id": "ebfee3bb-d5ea-47ac-be73-4fc9dac7ce83",
   "metadata": {},
   "source": [
    "<h2> Part 1 </h2>"
   ]
  },
  {
   "cell_type": "markdown",
   "id": "24874433-2f2c-43dd-bd6a-341748b423da",
   "metadata": {},
   "source": [
    "<h3> The problem </h3>"
   ]
  },
  {
   "cell_type": "markdown",
   "id": "5faa8304-8b0d-48d3-8a95-12a186087734",
   "metadata": {},
   "source": [
    "<p> You're launched high into the atmosphere! The apex of your trajectory just barely reaches the surface of a large island floating in the sky. You gently land in a fluffy pile of leaves. It's quite cold, but you don't see much snow. An Elf runs over to greet you.\n",
    "\n",
    "The Elf explains that you've arrived at Snow Island and apologizes for the lack of snow. He'll be happy to explain the situation, but it's a bit of a walk, so you have some time. They don't get many visitors up here; would you like to play a game in the meantime?\n",
    "\n",
    "As you walk, the Elf shows you a small bag and some cubes which are either red, green, or blue. Each time you play this game, he will hide a secret number of cubes of each color in the bag, and your goal is to figure out information about the number of cubes.\n",
    "\n",
    "To get information, once a bag has been loaded with cubes, the Elf will reach into the bag, grab a handful of random cubes, show them to you, and then put them back in the bag. He'll do this a few times per game.\n",
    "\n",
    "You play several games and record the information from each game (your puzzle input). Each game is listed with its ID number (like the 11 in Game 11: ...) followed by a semicolon-separated list of subsets of cubes that were revealed from the bag (like 3 red, 5 green, 4 blue).\n",
    "\n",
    "For example, the record of a few games might look like this:\n",
    "\n",
    "> Game 1: 3 blue, 4 red; 1 red, 2 green, 6 blue; 2 green\\\n",
    "> Game 2: 1 blue, 2 green; 3 green, 4 blue, 1 red; 1 green, 1 blue\\\n",
    "> Game 3: 8 green, 6 blue, 20 red; 5 blue, 4 red, 13 green; 5 green, 1 red\\\n",
    "> Game 4: 1 green, 3 red, 6 blue; 3 green, 6 red; 3 green, 15 blue, 14 red\\\n",
    "> Game 5: 6 red, 1 blue, 3 green; 2 blue, 1 red, 2 green\n",
    "\n",
    "In game 1, three sets of cubes are revealed from the bag (and then put back again). The first set is 3 blue cubes and 4 red cubes; the second set is 1 red cube, 2 green cubes, and 6 blue cubes; the third set is only 2 green cubes.\n",
    "\n",
    "The Elf would first like to know which games would have been possible if the bag contained **only 12 red cubes**, **13 green cubes**, and **14 blue cubes**?\n",
    "\n",
    "In the example above, games 1, 2, and 5 would have been possible if the bag had been loaded with that configuration. However, game 3 would have been **impossible** because at one point the Elf showed you 20 red cubes at once; similarly, game 4 would also have been impossible because the Elf showed you 15 blue cubes at once. If you add up the IDs of the games that would have been possible, you get **8**.\n",
    "\n",
    "Determine which games would have been possible if the bag had been loaded with only 12 red cubes, 13 green cubes, and 14 blue cubes. **What is the sum of the IDs of those games?** </p>"
   ]
  },
  {
   "cell_type": "markdown",
   "id": "717aa83d-005c-4ea0-92ca-f22cc3afbbda",
   "metadata": {},
   "source": [
    "<h3> The solution </h3>"
   ]
  },
  {
   "cell_type": "markdown",
   "id": "99155777-ae0c-446e-a202-e4c05c136dc2",
   "metadata": {},
   "source": [
    "<p> First I need some regular expressions to help us transform the information about the cubes into something we can work with. I'm thinking of writing Regex checks for numbers that appear before words \"red\", \"green\" and \"blue\" and comparing those numbers to the amounts possible.\n",
    "    <a href=\"url\">https://regexr.com/</a> is a fantastic site when working with regular expressions, since it shows you in real time what your code picks up and you can also enter your own text into it. </p>"
   ]
  },
  {
   "cell_type": "code",
   "execution_count": 1,
   "id": "6dc5a773-1094-4f60-a281-78dea8c691b6",
   "metadata": {},
   "outputs": [
    {
     "name": "stdout",
     "output_type": "stream",
     "text": [
      "The blue cubes are ['3', '6'], the red cubes ['4', '1'] and green cubes ['2', '2'].\n"
     ]
    }
   ],
   "source": [
    "import re\n",
    "str = \"Game 1: 3 blue, 4 red; 1 red, 2 green, 6 blue; 2 green\"\n",
    "x = re.findall(r\"(\\d+)(?=\\sblue)\", str)\n",
    "y = re.findall(r\"(\\d+)(?=\\sred)\", str)\n",
    "z = re.findall(r\"(\\d+)(?=\\sgreen)\", str)\n",
    "print(f\"The blue cubes are {x}, the red cubes {y} and green cubes {z}.\")"
   ]
  },
  {
   "cell_type": "markdown",
   "id": "07b55819-3b9a-422b-b870-94b8ca1408f4",
   "metadata": {},
   "source": [
    "<p> Now we have our regex strings to extract cube amounts. We also can make a string to get the game ID. </p> "
   ]
  },
  {
   "cell_type": "code",
   "execution_count": 2,
   "id": "83645d2b-adc5-4ea8-95dc-858930aed3bd",
   "metadata": {},
   "outputs": [
    {
     "name": "stdout",
     "output_type": "stream",
     "text": [
      "This game's id is ['1']\n"
     ]
    }
   ],
   "source": [
    "id = re.findall(r\"(\\d+)(?=:)\", str)\n",
    "print(f\"This game's id is {id}\")"
   ]
  },
  {
   "cell_type": "markdown",
   "id": "7579ae02-a0fd-4002-addb-39236a80d334",
   "metadata": {},
   "source": [
    "<p> Now we can just iterate through the file and if we don't find any impossible cube amounts, take the id and add it up to a sum. </p>"
   ]
  },
  {
   "cell_type": "code",
   "execution_count": 16,
   "id": "779cf1a2-12ff-4faa-aad2-cc2a31bbe57f",
   "metadata": {},
   "outputs": [
    {
     "name": "stdout",
     "output_type": "stream",
     "text": [
      "The sum of all passed games ID's is 2377.\n"
     ]
    }
   ],
   "source": [
    "bag = open(\"day2input.txt\", \"r\")\n",
    "sum = 0\n",
    "for game in bag:\n",
    "    passed = True\n",
    "    blues = re.findall(r\"(\\d+)(?=\\sblue)\", game)\n",
    "    for b in blues:\n",
    "        if int(b) > 14:\n",
    "            passed = False\n",
    "    reds = re.findall(r\"(\\d+)(?=\\sred)\", game)\n",
    "    for r in reds:\n",
    "        if int(r) > 12:\n",
    "            passed = False\n",
    "    greens = re.findall(r\"(\\d+)(?=\\sgreen)\", game)\n",
    "    for g in greens:\n",
    "        if int(g) > 13:\n",
    "            passed = False\n",
    "    if passed == True:\n",
    "        id = re.findall(r\"(\\d+)(?=:)\", game)\n",
    "        sum += int(id[0])\n",
    "print(f\"The sum of all passed games ID's is {sum}.\")\n",
    "bag.close()"
   ]
  },
  {
   "cell_type": "markdown",
   "id": "61fc5e93-f0cb-4c1a-8e61-8044dd3d9a36",
   "metadata": {},
   "source": [
    "<h2> Part 2 </h2>"
   ]
  },
  {
   "cell_type": "markdown",
   "id": "bb648bec-b8d9-4e76-b9f3-622d6388c74a",
   "metadata": {},
   "source": [
    "<h3> The problem </h3>"
   ]
  },
  {
   "cell_type": "markdown",
   "id": "3ec2d84a-c80d-42e5-a71e-2d4995cc0082",
   "metadata": {},
   "source": [
    "<p> The Elf says they've stopped producing snow because they aren't getting any water! He isn't sure why the water stopped; however, he can show you how to get to the water source to check it out for yourself. It's just up ahead!\n",
    "\n",
    "As you continue your walk, the Elf poses a second question: in each game you played, what is the fewest number of cubes of each color that could have been in the bag to make the game possible?\n",
    "\n",
    "Again consider the example games from earlier:\n",
    "\n",
    "> Game 1: 3 blue, 4 red; 1 red, 2 green, 6 blue; 2 green\\\n",
    "> Game 2: 1 blue, 2 green; 3 green, 4 blue, 1 red; 1 green, 1 blue\\\n",
    "> Game 3: 8 green, 6 blue, 20 red; 5 blue, 4 red, 13 green; 5 green, 1 red\\\n",
    "> Game 4: 1 green, 3 red, 6 blue; 3 green, 6 red; 3 green, 15 blue, 14 red\\\n",
    "> Game 5: 6 red, 1 blue, 3 green; 2 blue, 1 red, 2 green\\\n",
    "\n",
    "- In game 1, the game could have been played with as few as 4 red, 2 green, and 6 blue cubes. If any color had even one fewer cube, the game would have been impossible.\n",
    "- Game 2 could have been played with a minimum of 1 red, 3 green, and 4 blue cubes.\n",
    "- Game 3 must have been played with at least 20 red, 13 green, and 6 blue cubes.\n",
    "- Game 4 required at least 14 red, 3 green, and 15 blue cubes.\n",
    "- Game 5 needed no fewer than 6 red, 3 green, and 2 blue cubes in the bag.\n",
    "    \n",
    "The **power** of a set of cubes is equal to the numbers of red, green, and blue cubes multiplied together. \n",
    "The power of the minimum set of cubes in game 1 is 48. In games 2-5 it was 12, 1560, 630, and 36, respectively. Adding up these five powers produces the sum **2286**.\n",
    "\n",
    "For each game, find the minimum set of cubes that must have been present. **What is the sum of the power of these sets**?"
   ]
  },
  {
   "cell_type": "markdown",
   "id": "4b5687a0-98c5-442b-b08e-0bfcdc8cb55e",
   "metadata": {},
   "source": [
    "<h3> The solution </h3>"
   ]
  },
  {
   "cell_type": "markdown",
   "id": "cb71105c-d6e1-4449-9eeb-dc4e23a59bb6",
   "metadata": {},
   "source": [
    "<p> Thanks to the earlier regular expressions returning a list of all cube values for that certain colour, we can easily just pick the smallest possible values from those lists and multiply them together. </p>"
   ]
  },
  {
   "cell_type": "code",
   "execution_count": 24,
   "id": "e58f54f6-1159-4e2d-93f2-26d1ffe0f3d3",
   "metadata": {},
   "outputs": [
    {
     "name": "stdout",
     "output_type": "stream",
     "text": [
      "The sum of all passed games ID's is 71220.\n"
     ]
    }
   ],
   "source": [
    "bag = open(\"day2input.txt\", \"r\")\n",
    "sum = 0\n",
    "for game in bag:\n",
    "    blues = re.findall(r\"(\\d+)(?=\\sblue)\", game)\n",
    "    intblues = [eval(x) for x in blues]\n",
    "    b = max(intblues)\n",
    "    reds = re.findall(r\"(\\d+)(?=\\sred)\", game)\n",
    "    intreds = [eval(y) for y in reds]\n",
    "    r = max(intreds)\n",
    "    greens = re.findall(r\"(\\d+)(?=\\sgreen)\", game)\n",
    "    intgreens = [eval(z) for z in greens]\n",
    "    g = max(intgreens)\n",
    "    sum += (b*r*g)\n",
    "print(f\"The sum of all passed games ID's is {sum}.\")\n",
    "bag.close()"
   ]
  },
  {
   "cell_type": "code",
   "execution_count": null,
   "id": "19d134f8-174e-47e8-a541-ada33869c76c",
   "metadata": {},
   "outputs": [],
   "source": []
  }
 ],
 "metadata": {
  "kernelspec": {
   "display_name": "Python 3 (ipykernel)",
   "language": "python",
   "name": "python3"
  },
  "language_info": {
   "codemirror_mode": {
    "name": "ipython",
    "version": 3
   },
   "file_extension": ".py",
   "mimetype": "text/x-python",
   "name": "python",
   "nbconvert_exporter": "python",
   "pygments_lexer": "ipython3",
   "version": "3.10.1"
  }
 },
 "nbformat": 4,
 "nbformat_minor": 5
}
